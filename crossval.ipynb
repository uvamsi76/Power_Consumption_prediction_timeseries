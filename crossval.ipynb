{
 "cells": [
  {
   "cell_type": "code",
   "execution_count": 20,
   "metadata": {},
   "outputs": [],
   "source": [
    "import warnings\n",
    "\n",
    "# Ignore all warnings\n",
    "warnings.filterwarnings('ignore')\n"
   ]
  },
  {
   "cell_type": "code",
   "execution_count": 21,
   "metadata": {},
   "outputs": [],
   "source": [
    "import pandas as pd\n",
    "from mlforecast import MLForecast\n",
    "from xgboost import XGBRegressor\n",
    "from utilsforecast.plotting import plot_series\n",
    "from matplotlib import pyplot as plt\n",
    "from window_ops.rolling import rolling_mean, rolling_std, rolling_min, rolling_max\n",
    "from mlforecast.target_transforms import Differences\n",
    "from sklearn.metrics import mean_squared_error, accuracy_score\n",
    "import numpy as np\n",
    "from scipy import signal\n",
    "from statsmodels.graphics.tsaplots import plot_acf, plot_pacf\n",
    "from prophet import Prophet\n",
    "from sklearn.base import BaseEstimator, RegressorMixin\n",
    "from statsmodels.tsa.seasonal import STL\n",
    "from lightgbm import LGBMRegressor"
   ]
  },
  {
   "cell_type": "code",
   "execution_count": 22,
   "metadata": {},
   "outputs": [
    {
     "data": {
      "text/html": [
       "<div>\n",
       "<style scoped>\n",
       "    .dataframe tbody tr th:only-of-type {\n",
       "        vertical-align: middle;\n",
       "    }\n",
       "\n",
       "    .dataframe tbody tr th {\n",
       "        vertical-align: top;\n",
       "    }\n",
       "\n",
       "    .dataframe thead th {\n",
       "        text-align: right;\n",
       "    }\n",
       "</style>\n",
       "<table border=\"1\" class=\"dataframe\">\n",
       "  <thead>\n",
       "    <tr style=\"text-align: right;\">\n",
       "      <th></th>\n",
       "      <th>unique_id</th>\n",
       "      <th>ds</th>\n",
       "      <th>y</th>\n",
       "    </tr>\n",
       "  </thead>\n",
       "  <tbody>\n",
       "    <tr>\n",
       "      <th>0</th>\n",
       "      <td>h1</td>\n",
       "      <td>2022-01-04 00:00:00</td>\n",
       "      <td>20.867</td>\n",
       "    </tr>\n",
       "    <tr>\n",
       "      <th>1</th>\n",
       "      <td>h1</td>\n",
       "      <td>2022-01-04 01:00:00</td>\n",
       "      <td>21.000</td>\n",
       "    </tr>\n",
       "    <tr>\n",
       "      <th>2</th>\n",
       "      <td>h1</td>\n",
       "      <td>2022-01-04 02:00:00</td>\n",
       "      <td>20.867</td>\n",
       "    </tr>\n",
       "    <tr>\n",
       "      <th>3</th>\n",
       "      <td>h1</td>\n",
       "      <td>2022-01-04 03:00:00</td>\n",
       "      <td>20.650</td>\n",
       "    </tr>\n",
       "    <tr>\n",
       "      <th>4</th>\n",
       "      <td>h1</td>\n",
       "      <td>2022-01-04 04:00:00</td>\n",
       "      <td>20.400</td>\n",
       "    </tr>\n",
       "  </tbody>\n",
       "</table>\n",
       "</div>"
      ],
      "text/plain": [
       "  unique_id                  ds       y\n",
       "0        h1 2022-01-04 00:00:00  20.867\n",
       "1        h1 2022-01-04 01:00:00  21.000\n",
       "2        h1 2022-01-04 02:00:00  20.867\n",
       "3        h1 2022-01-04 03:00:00  20.650\n",
       "4        h1 2022-01-04 04:00:00  20.400"
      ]
     },
     "execution_count": 22,
     "metadata": {},
     "output_type": "execute_result"
    }
   ],
   "source": [
    "df=pd.read_csv('MLTempDataset.csv')\n",
    "df.drop(columns=['Unnamed: 0',],inplace=True)#'Datetime1'\n",
    "df1=df.copy()\n",
    "df1['unique_id']='h1'\n",
    "# df1['unique_id']=\n",
    "df1['ds']=pd.to_datetime(df['Datetime'])\n",
    "df1['y']=df['DAYTON_MW']\n",
    "df1.drop(columns=['Datetime','DAYTON_MW','Datetime1'],inplace=True)\n",
    "df1.head()"
   ]
  },
  {
   "cell_type": "code",
   "execution_count": 23,
   "metadata": {},
   "outputs": [
    {
     "data": {
      "text/plain": [
       "((5340, 3), (1336, 3))"
      ]
     },
     "execution_count": 23,
     "metadata": {},
     "output_type": "execute_result"
    }
   ],
   "source": [
    "trainbef=df1[:5340]\n",
    "testbef=df1[5340:]\n",
    "trainbef.shape,testbef.shape"
   ]
  },
  {
   "cell_type": "code",
   "execution_count": 24,
   "metadata": {},
   "outputs": [],
   "source": [
    "from scipy.signal import periodogram\n",
    "\n",
    "frequencies, spectrum = periodogram(df1['y'])\n",
    "max_idx = np.argmax(spectrum)\n",
    "second_max_idx = np.argsort(spectrum)[-2]  # Get the second largest index\n",
    "\n",
    "# Get the maximum and second maximum values\n",
    "max_value = spectrum[max_idx]\n",
    "second_max_value = spectrum[second_max_idx]\n",
    "\n",
    "# Get the corresponding frequencies\n",
    "max_freq = frequencies[max_idx]\n",
    "second_max_freq = frequencies[second_max_idx]\n",
    "\n",
    "# plt.figure(figsize=(14, 7))\n",
    "# plt.plot(frequencies, spectrum)\n",
    "# plt.title('Periodogram')\n",
    "# plt.xlabel('Frequency')\n",
    "# plt.ylabel('Power')\n",
    "# plt.show()"
   ]
  },
  {
   "cell_type": "code",
   "execution_count": 25,
   "metadata": {},
   "outputs": [
    {
     "data": {
      "text/plain": [
       "(np.float64(3338.0), np.float64(667.6))"
      ]
     },
     "execution_count": 25,
     "metadata": {},
     "output_type": "execute_result"
    }
   ],
   "source": [
    "1/max_freq, 1/second_max_freq"
   ]
  },
  {
   "cell_type": "code",
   "execution_count": 26,
   "metadata": {},
   "outputs": [],
   "source": [
    "seasonal_period=667"
   ]
  },
  {
   "cell_type": "code",
   "execution_count": 27,
   "metadata": {},
   "outputs": [],
   "source": [
    "stl = STL(df1['y'],period=seasonal_period)\n",
    "result=stl.fit()\n",
    "# result.plot()"
   ]
  },
  {
   "cell_type": "code",
   "execution_count": 28,
   "metadata": {},
   "outputs": [],
   "source": [
    "trend=result.trend\n",
    "trend.head()\n",
    "seasonal=result.seasonal"
   ]
  },
  {
   "cell_type": "code",
   "execution_count": 29,
   "metadata": {},
   "outputs": [
    {
     "data": {
      "text/plain": [
       "(6676, 1)"
      ]
     },
     "execution_count": 29,
     "metadata": {},
     "output_type": "execute_result"
    }
   ],
   "source": [
    "a=pd.DataFrame(trend)\n",
    "a.shape"
   ]
  },
  {
   "cell_type": "code",
   "execution_count": 30,
   "metadata": {},
   "outputs": [],
   "source": [
    "a['ds']=df1['ds']\n",
    "a['unique_id']=df1['unique_id']\n",
    "a['y']=a['trend']"
   ]
  },
  {
   "cell_type": "code",
   "execution_count": 31,
   "metadata": {},
   "outputs": [
    {
     "data": {
      "text/html": [
       "<div>\n",
       "<style scoped>\n",
       "    .dataframe tbody tr th:only-of-type {\n",
       "        vertical-align: middle;\n",
       "    }\n",
       "\n",
       "    .dataframe tbody tr th {\n",
       "        vertical-align: top;\n",
       "    }\n",
       "\n",
       "    .dataframe thead th {\n",
       "        text-align: right;\n",
       "    }\n",
       "</style>\n",
       "<table border=\"1\" class=\"dataframe\">\n",
       "  <thead>\n",
       "    <tr style=\"text-align: right;\">\n",
       "      <th></th>\n",
       "      <th>trend</th>\n",
       "      <th>ds</th>\n",
       "      <th>unique_id</th>\n",
       "      <th>y</th>\n",
       "    </tr>\n",
       "  </thead>\n",
       "  <tbody>\n",
       "    <tr>\n",
       "      <th>0</th>\n",
       "      <td>19.671413</td>\n",
       "      <td>2022-01-04 00:00:00</td>\n",
       "      <td>h1</td>\n",
       "      <td>19.671413</td>\n",
       "    </tr>\n",
       "    <tr>\n",
       "      <th>1</th>\n",
       "      <td>19.667384</td>\n",
       "      <td>2022-01-04 01:00:00</td>\n",
       "      <td>h1</td>\n",
       "      <td>19.667384</td>\n",
       "    </tr>\n",
       "    <tr>\n",
       "      <th>2</th>\n",
       "      <td>19.663358</td>\n",
       "      <td>2022-01-04 02:00:00</td>\n",
       "      <td>h1</td>\n",
       "      <td>19.663358</td>\n",
       "    </tr>\n",
       "    <tr>\n",
       "      <th>3</th>\n",
       "      <td>19.659334</td>\n",
       "      <td>2022-01-04 03:00:00</td>\n",
       "      <td>h1</td>\n",
       "      <td>19.659334</td>\n",
       "    </tr>\n",
       "    <tr>\n",
       "      <th>4</th>\n",
       "      <td>19.655312</td>\n",
       "      <td>2022-01-04 04:00:00</td>\n",
       "      <td>h1</td>\n",
       "      <td>19.655312</td>\n",
       "    </tr>\n",
       "  </tbody>\n",
       "</table>\n",
       "</div>"
      ],
      "text/plain": [
       "       trend                  ds unique_id          y\n",
       "0  19.671413 2022-01-04 00:00:00        h1  19.671413\n",
       "1  19.667384 2022-01-04 01:00:00        h1  19.667384\n",
       "2  19.663358 2022-01-04 02:00:00        h1  19.663358\n",
       "3  19.659334 2022-01-04 03:00:00        h1  19.659334\n",
       "4  19.655312 2022-01-04 04:00:00        h1  19.655312"
      ]
     },
     "execution_count": 31,
     "metadata": {},
     "output_type": "execute_result"
    }
   ],
   "source": [
    "a=a.dropna().reset_index(drop=True)\n",
    "a.head()"
   ]
  },
  {
   "cell_type": "code",
   "execution_count": 32,
   "metadata": {},
   "outputs": [
    {
     "data": {
      "text/plain": [
       "(6676, 4)"
      ]
     },
     "execution_count": 32,
     "metadata": {},
     "output_type": "execute_result"
    }
   ],
   "source": [
    "a.shape"
   ]
  },
  {
   "cell_type": "code",
   "execution_count": null,
   "metadata": {},
   "outputs": [],
   "source": [
    "# mlf = MLForecast(\n",
    "#     models=[LGBMRegressor(), XGBRegressor(), LinearRegression()],  # List of models for forecasting: LightGBM, XGBoost and Linear Regression\n",
    "#     freq='D',  # Frequency of the data - 'D' for daily frequency\n",
    "#     lags=list(range(1, 7)),  # Specific lags to use as regressors: 1 to 6 days\n",
    "#     lag_transforms = {\n",
    "#         1:  [expanding_mean],  # Apply expanding mean transformation to the lag of 1 day\n",
    "#     },\n",
    "#     date_features=['year', 'month', 'day', 'dayofweek', 'quarter', 'week'],  # Date features to use as regressors\n",
    "# )\n",
    "\n",
    "# 'boosting_type': 'gbdt',\n",
    "#     'num_leaves': 31,\n",
    "#     'learning_rate': 0.1,\n",
    "#     'n_estimators': 100,"
   ]
  },
  {
   "cell_type": "code",
   "execution_count": 35,
   "metadata": {},
   "outputs": [],
   "source": [
    "model=XGBRegressor(random_state=990,learning_rate=0.01,n_estimators=500,max_depth=10,reg_lambda=0.2)\n",
    "model2=LGBMRegressor(boosting_type='gbdt',num_leaves=31,learning_rate=0.1,n_estimators=100,random_state=990)\n",
    "ftsc=MLForecast(\n",
    "    models=[model,model2],\n",
    "    freq='H',\n",
    "    lags=[seasonal_period],\n",
    "    lag_transforms={\n",
    "        # 30:[(rolling_mean,30),(rolling_std,30),(rolling_min,30),(rolling_max,30)],\n",
    "        # 168:[(rolling_mean,168),(rolling_std,168),(rolling_min,168),(rolling_max,168)],\n",
    "        seasonal_period:[(rolling_mean,seasonal_period),(rolling_std,seasonal_period),(rolling_min,seasonal_period),(rolling_max,seasonal_period)],\n",
    "    #     350:[(rolling_mean,350),(rolling_std,350),(rolling_min,350),(rolling_max,350)],\n",
    "    #     720:[(rolling_mean,720),(rolling_std,720),(rolling_min,720),(rolling_max,720)]\n",
    "    },\n",
    "    # target_transforms=[Differences([350])],\n",
    "    date_features=['hour','day','weekday','month','year'],\n",
    ")\n",
    "# ftsc.fit(train,id_col='unique_id',time_col='ds',target_col='y')\n",
    "# min_child_weight=\n",
    "# ,gamma=\n",
    "# ,subsample=\n",
    "# objective=\"reg:squarederror\","
   ]
  },
  {
   "cell_type": "code",
   "execution_count": 36,
   "metadata": {},
   "outputs": [
    {
     "name": "stdout",
     "output_type": "stream",
     "text": [
      "[LightGBM] [Info] Auto-choosing row-wise multi-threading, the overhead of testing was 0.001245 seconds.\n",
      "You can set `force_row_wise=true` to remove the overhead.\n",
      "And if memory is not enough, you can set `force_col_wise=true`.\n",
      "[LightGBM] [Info] Total Bins 1602\n",
      "[LightGBM] [Info] Number of data points in the train set: 4503, number of used features: 10\n",
      "[LightGBM] [Info] Start training from score 22.088450\n",
      "[LightGBM] [Info] Auto-choosing col-wise multi-threading, the overhead of testing was 0.000182 seconds.\n",
      "You can set `force_col_wise=true` to remove the overhead.\n",
      "[LightGBM] [Info] Total Bins 1602\n",
      "[LightGBM] [Info] Number of data points in the train set: 4671, number of used features: 10\n",
      "[LightGBM] [Info] Start training from score 22.143811\n",
      "[LightGBM] [Info] Auto-choosing row-wise multi-threading, the overhead of testing was 0.003550 seconds.\n",
      "You can set `force_row_wise=true` to remove the overhead.\n",
      "And if memory is not enough, you can set `force_col_wise=true`.\n",
      "[LightGBM] [Info] Total Bins 1602\n",
      "[LightGBM] [Info] Number of data points in the train set: 4839, number of used features: 10\n",
      "[LightGBM] [Info] Start training from score 22.182728\n",
      "[LightGBM] [Info] Auto-choosing col-wise multi-threading, the overhead of testing was 0.000210 seconds.\n",
      "You can set `force_col_wise=true` to remove the overhead.\n",
      "[LightGBM] [Info] Total Bins 1602\n",
      "[LightGBM] [Info] Number of data points in the train set: 5007, number of used features: 10\n",
      "[LightGBM] [Info] Start training from score 22.214660\n",
      "[LightGBM] [Info] Auto-choosing row-wise multi-threading, the overhead of testing was 0.000074 seconds.\n",
      "You can set `force_row_wise=true` to remove the overhead.\n",
      "And if memory is not enough, you can set `force_col_wise=true`.\n",
      "[LightGBM] [Info] Total Bins 1603\n",
      "[LightGBM] [Info] Number of data points in the train set: 5175, number of used features: 10\n",
      "[LightGBM] [Info] Start training from score 22.243529\n"
     ]
    }
   ],
   "source": [
    "crossvalidation_df = ftsc.cross_validation(\n",
    "    df=a,\n",
    "    h=168,\n",
    "    n_windows=5,\n",
    ")"
   ]
  },
  {
   "cell_type": "code",
   "execution_count": 40,
   "metadata": {},
   "outputs": [
    {
     "data": {
      "text/html": [
       "<div>\n",
       "<style scoped>\n",
       "    .dataframe tbody tr th:only-of-type {\n",
       "        vertical-align: middle;\n",
       "    }\n",
       "\n",
       "    .dataframe tbody tr th {\n",
       "        vertical-align: top;\n",
       "    }\n",
       "\n",
       "    .dataframe thead th {\n",
       "        text-align: right;\n",
       "    }\n",
       "</style>\n",
       "<table border=\"1\" class=\"dataframe\">\n",
       "  <thead>\n",
       "    <tr style=\"text-align: right;\">\n",
       "      <th></th>\n",
       "      <th>unique_id</th>\n",
       "      <th>ds</th>\n",
       "      <th>cutoff</th>\n",
       "      <th>y</th>\n",
       "      <th>XGBRegressor</th>\n",
       "      <th>LGBMRegressor</th>\n",
       "    </tr>\n",
       "  </thead>\n",
       "  <tbody>\n",
       "    <tr>\n",
       "      <th>0</th>\n",
       "      <td>h1</td>\n",
       "      <td>2022-09-04 04:00:00</td>\n",
       "      <td>2022-09-04 03:00:00</td>\n",
       "      <td>23.903974</td>\n",
       "      <td>23.893799</td>\n",
       "      <td>23.910899</td>\n",
       "    </tr>\n",
       "    <tr>\n",
       "      <th>1</th>\n",
       "      <td>h1</td>\n",
       "      <td>2022-09-04 05:00:00</td>\n",
       "      <td>2022-09-04 03:00:00</td>\n",
       "      <td>23.900103</td>\n",
       "      <td>23.893799</td>\n",
       "      <td>23.910899</td>\n",
       "    </tr>\n",
       "    <tr>\n",
       "      <th>2</th>\n",
       "      <td>h1</td>\n",
       "      <td>2022-09-04 06:00:00</td>\n",
       "      <td>2022-09-04 03:00:00</td>\n",
       "      <td>23.896237</td>\n",
       "      <td>23.893799</td>\n",
       "      <td>23.910899</td>\n",
       "    </tr>\n",
       "    <tr>\n",
       "      <th>3</th>\n",
       "      <td>h1</td>\n",
       "      <td>2022-09-04 07:00:00</td>\n",
       "      <td>2022-09-04 03:00:00</td>\n",
       "      <td>23.892379</td>\n",
       "      <td>23.893799</td>\n",
       "      <td>23.910899</td>\n",
       "    </tr>\n",
       "    <tr>\n",
       "      <th>4</th>\n",
       "      <td>h1</td>\n",
       "      <td>2022-09-04 08:00:00</td>\n",
       "      <td>2022-09-04 03:00:00</td>\n",
       "      <td>23.888527</td>\n",
       "      <td>23.893799</td>\n",
       "      <td>23.910899</td>\n",
       "    </tr>\n",
       "  </tbody>\n",
       "</table>\n",
       "</div>"
      ],
      "text/plain": [
       "  unique_id                  ds              cutoff          y  XGBRegressor  \\\n",
       "0        h1 2022-09-04 04:00:00 2022-09-04 03:00:00  23.903974     23.893799   \n",
       "1        h1 2022-09-04 05:00:00 2022-09-04 03:00:00  23.900103     23.893799   \n",
       "2        h1 2022-09-04 06:00:00 2022-09-04 03:00:00  23.896237     23.893799   \n",
       "3        h1 2022-09-04 07:00:00 2022-09-04 03:00:00  23.892379     23.893799   \n",
       "4        h1 2022-09-04 08:00:00 2022-09-04 03:00:00  23.888527     23.893799   \n",
       "\n",
       "   LGBMRegressor  \n",
       "0      23.910899  \n",
       "1      23.910899  \n",
       "2      23.910899  \n",
       "3      23.910899  \n",
       "4      23.910899  "
      ]
     },
     "execution_count": 40,
     "metadata": {},
     "output_type": "execute_result"
    }
   ],
   "source": [
    "crossvalidation_df.head()"
   ]
  },
  {
   "cell_type": "code",
   "execution_count": 42,
   "metadata": {},
   "outputs": [],
   "source": [
    "from utilsforecast.losses import rmse\n",
    "\n",
    "crossvalidation_df['id_cutoff'] = crossvalidation_df['unique_id'] + '_' + crossvalidation_df['cutoff'].astype(str)\n",
    "cv_rmse = rmse(crossvalidation_df, models=['LGBMRegressor', 'XGBRegressor'], id_col='id_cutoff')\n",
    "# print(\"RMSE using cross-validation: \", cv_rmse.mean())"
   ]
  },
  {
   "cell_type": "code",
   "execution_count": 44,
   "metadata": {},
   "outputs": [
    {
     "data": {
      "text/plain": [
       "(np.float64(0.11889292339133775), np.float64(0.11330350801123576))"
      ]
     },
     "execution_count": 44,
     "metadata": {},
     "output_type": "execute_result"
    }
   ],
   "source": [
    "cv_rmse['LGBMRegressor'].mean(),cv_rmse['XGBRegressor'].mean()"
   ]
  },
  {
   "cell_type": "code",
   "execution_count": null,
   "metadata": {},
   "outputs": [],
   "source": []
  }
 ],
 "metadata": {
  "kernelspec": {
   "display_name": "venv",
   "language": "python",
   "name": "python3"
  },
  "language_info": {
   "codemirror_mode": {
    "name": "ipython",
    "version": 3
   },
   "file_extension": ".py",
   "mimetype": "text/x-python",
   "name": "python",
   "nbconvert_exporter": "python",
   "pygments_lexer": "ipython3",
   "version": "3.11.4"
  },
  "orig_nbformat": 4
 },
 "nbformat": 4,
 "nbformat_minor": 2
}
