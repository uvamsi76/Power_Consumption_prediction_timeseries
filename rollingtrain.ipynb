{
 "cells": [
  {
   "cell_type": "code",
   "execution_count": 27,
   "metadata": {},
   "outputs": [],
   "source": [
    "import warnings\n",
    "\n",
    "# Ignore all warnings\n",
    "warnings.filterwarnings('ignore')\n"
   ]
  },
  {
   "cell_type": "code",
   "execution_count": 34,
   "metadata": {},
   "outputs": [],
   "source": [
    "import pandas as pd\n",
    "from mlforecast import MLForecast\n",
    "from xgboost import XGBRegressor\n",
    "from utilsforecast.plotting import plot_series\n",
    "from matplotlib import pyplot as plt\n",
    "from window_ops.rolling import rolling_mean, rolling_std, rolling_min, rolling_max\n",
    "from mlforecast.target_transforms import Differences\n",
    "from sklearn.metrics import mean_squared_error, accuracy_score ,root_mean_squared_error\n",
    "import numpy as np\n",
    "from scipy import signal\n",
    "from statsmodels.graphics.tsaplots import plot_acf, plot_pacf\n",
    "from prophet import Prophet\n",
    "from sklearn.base import BaseEstimator, RegressorMixin\n",
    "from statsmodels.tsa.seasonal import STL\n",
    "from lightgbm import LGBMRegressor"
   ]
  },
  {
   "cell_type": "code",
   "execution_count": 5,
   "metadata": {},
   "outputs": [
    {
     "data": {
      "text/html": [
       "<div>\n",
       "<style scoped>\n",
       "    .dataframe tbody tr th:only-of-type {\n",
       "        vertical-align: middle;\n",
       "    }\n",
       "\n",
       "    .dataframe tbody tr th {\n",
       "        vertical-align: top;\n",
       "    }\n",
       "\n",
       "    .dataframe thead th {\n",
       "        text-align: right;\n",
       "    }\n",
       "</style>\n",
       "<table border=\"1\" class=\"dataframe\">\n",
       "  <thead>\n",
       "    <tr style=\"text-align: right;\">\n",
       "      <th></th>\n",
       "      <th>unique_id</th>\n",
       "      <th>ds</th>\n",
       "      <th>y</th>\n",
       "    </tr>\n",
       "  </thead>\n",
       "  <tbody>\n",
       "    <tr>\n",
       "      <th>0</th>\n",
       "      <td>h1</td>\n",
       "      <td>2022-01-04 00:00:00</td>\n",
       "      <td>20.867</td>\n",
       "    </tr>\n",
       "    <tr>\n",
       "      <th>1</th>\n",
       "      <td>h1</td>\n",
       "      <td>2022-01-04 01:00:00</td>\n",
       "      <td>21.000</td>\n",
       "    </tr>\n",
       "    <tr>\n",
       "      <th>2</th>\n",
       "      <td>h1</td>\n",
       "      <td>2022-01-04 02:00:00</td>\n",
       "      <td>20.867</td>\n",
       "    </tr>\n",
       "    <tr>\n",
       "      <th>3</th>\n",
       "      <td>h1</td>\n",
       "      <td>2022-01-04 03:00:00</td>\n",
       "      <td>20.650</td>\n",
       "    </tr>\n",
       "    <tr>\n",
       "      <th>4</th>\n",
       "      <td>h1</td>\n",
       "      <td>2022-01-04 04:00:00</td>\n",
       "      <td>20.400</td>\n",
       "    </tr>\n",
       "  </tbody>\n",
       "</table>\n",
       "</div>"
      ],
      "text/plain": [
       "  unique_id                  ds       y\n",
       "0        h1 2022-01-04 00:00:00  20.867\n",
       "1        h1 2022-01-04 01:00:00  21.000\n",
       "2        h1 2022-01-04 02:00:00  20.867\n",
       "3        h1 2022-01-04 03:00:00  20.650\n",
       "4        h1 2022-01-04 04:00:00  20.400"
      ]
     },
     "execution_count": 5,
     "metadata": {},
     "output_type": "execute_result"
    }
   ],
   "source": [
    "df=pd.read_csv('MLTempDataset.csv')\n",
    "df.drop(columns=['Unnamed: 0',],inplace=True)#'Datetime1'\n",
    "df1=df.copy()\n",
    "df1['unique_id']='h1'\n",
    "# df1['unique_id']=\n",
    "df1['ds']=pd.to_datetime(df['Datetime'])\n",
    "df1['y']=df['DAYTON_MW']\n",
    "df1.drop(columns=['Datetime','DAYTON_MW','Datetime1'],inplace=True)\n",
    "df1.head()"
   ]
  },
  {
   "cell_type": "code",
   "execution_count": 11,
   "metadata": {},
   "outputs": [],
   "source": [
    "chunks=[]\n",
    "r=int(df1.shape[0]/5)\n",
    "for i in range(4):\n",
    "    a=df1[i*r:(i+1)*r]\n",
    "    chunks.append(a)\n",
    "chunks.append(df1[4*r:])"
   ]
  },
  {
   "cell_type": "code",
   "execution_count": 15,
   "metadata": {},
   "outputs": [],
   "source": [
    "train=chunks[0]\n",
    "test=chunks[1]"
   ]
  },
  {
   "cell_type": "code",
   "execution_count": 18,
   "metadata": {},
   "outputs": [
    {
     "data": {
      "text/plain": [
       "(np.float64(3338.0), np.float64(667.6))"
      ]
     },
     "execution_count": 18,
     "metadata": {},
     "output_type": "execute_result"
    }
   ],
   "source": [
    "from scipy.signal import periodogram\n",
    "\n",
    "frequencies, spectrum = periodogram(df1['y'])\n",
    "max_idx = np.argmax(spectrum)\n",
    "second_max_idx = np.argsort(spectrum)[-2]  # Get the second largest index\n",
    "\n",
    "# Get the maximum and second maximum values\n",
    "max_value = spectrum[max_idx]\n",
    "second_max_value = spectrum[second_max_idx]\n",
    "\n",
    "# Get the corresponding frequencies\n",
    "max_freq = frequencies[max_idx]\n",
    "second_max_freq = frequencies[second_max_idx]\n",
    "\n",
    "1/max_freq, 1/second_max_freq\n",
    "\n",
    "# plt.figure(figsize=(14, 7))\n",
    "# plt.plot(frequencies, spectrum)\n",
    "# plt.title('Periodogram')\n",
    "# plt.xlabel('Frequency')\n",
    "# plt.ylabel('Power')\n",
    "# plt.show()"
   ]
  },
  {
   "cell_type": "code",
   "execution_count": 19,
   "metadata": {},
   "outputs": [],
   "source": [
    "seasonal_period=int(1/second_max_freq)"
   ]
  },
  {
   "cell_type": "code",
   "execution_count": 22,
   "metadata": {},
   "outputs": [
    {
     "data": {
      "text/plain": [
       "(1335, 1)"
      ]
     },
     "execution_count": 22,
     "metadata": {},
     "output_type": "execute_result"
    }
   ],
   "source": [
    "stl = STL(train['y'],period=seasonal_period)\n",
    "result=stl.fit()\n",
    "# result.plot()\n",
    "trend=result.trend\n",
    "trend.head()\n",
    "seasonal=result.seasonal\n",
    "a=pd.DataFrame(trend)\n",
    "a.shape"
   ]
  },
  {
   "cell_type": "code",
   "execution_count": 23,
   "metadata": {},
   "outputs": [
    {
     "data": {
      "text/html": [
       "<div>\n",
       "<style scoped>\n",
       "    .dataframe tbody tr th:only-of-type {\n",
       "        vertical-align: middle;\n",
       "    }\n",
       "\n",
       "    .dataframe tbody tr th {\n",
       "        vertical-align: top;\n",
       "    }\n",
       "\n",
       "    .dataframe thead th {\n",
       "        text-align: right;\n",
       "    }\n",
       "</style>\n",
       "<table border=\"1\" class=\"dataframe\">\n",
       "  <thead>\n",
       "    <tr style=\"text-align: right;\">\n",
       "      <th></th>\n",
       "      <th>trend</th>\n",
       "      <th>ds</th>\n",
       "      <th>unique_id</th>\n",
       "      <th>y</th>\n",
       "    </tr>\n",
       "  </thead>\n",
       "  <tbody>\n",
       "    <tr>\n",
       "      <th>0</th>\n",
       "      <td>16.450931</td>\n",
       "      <td>2022-01-04 00:00:00</td>\n",
       "      <td>h1</td>\n",
       "      <td>16.450931</td>\n",
       "    </tr>\n",
       "    <tr>\n",
       "      <th>1</th>\n",
       "      <td>16.453445</td>\n",
       "      <td>2022-01-04 01:00:00</td>\n",
       "      <td>h1</td>\n",
       "      <td>16.453445</td>\n",
       "    </tr>\n",
       "    <tr>\n",
       "      <th>2</th>\n",
       "      <td>16.455960</td>\n",
       "      <td>2022-01-04 02:00:00</td>\n",
       "      <td>h1</td>\n",
       "      <td>16.455960</td>\n",
       "    </tr>\n",
       "    <tr>\n",
       "      <th>3</th>\n",
       "      <td>16.458475</td>\n",
       "      <td>2022-01-04 03:00:00</td>\n",
       "      <td>h1</td>\n",
       "      <td>16.458475</td>\n",
       "    </tr>\n",
       "    <tr>\n",
       "      <th>4</th>\n",
       "      <td>16.460990</td>\n",
       "      <td>2022-01-04 04:00:00</td>\n",
       "      <td>h1</td>\n",
       "      <td>16.460990</td>\n",
       "    </tr>\n",
       "  </tbody>\n",
       "</table>\n",
       "</div>"
      ],
      "text/plain": [
       "       trend                  ds unique_id          y\n",
       "0  16.450931 2022-01-04 00:00:00        h1  16.450931\n",
       "1  16.453445 2022-01-04 01:00:00        h1  16.453445\n",
       "2  16.455960 2022-01-04 02:00:00        h1  16.455960\n",
       "3  16.458475 2022-01-04 03:00:00        h1  16.458475\n",
       "4  16.460990 2022-01-04 04:00:00        h1  16.460990"
      ]
     },
     "execution_count": 23,
     "metadata": {},
     "output_type": "execute_result"
    }
   ],
   "source": [
    "a['ds']=df1['ds']\n",
    "a['unique_id']=df1['unique_id']\n",
    "a['y']=a['trend']\n",
    "a=a.dropna().reset_index(drop=True)\n",
    "a.head()"
   ]
  },
  {
   "cell_type": "code",
   "execution_count": 24,
   "metadata": {},
   "outputs": [
    {
     "data": {
      "text/plain": [
       "(1335, 4)"
      ]
     },
     "execution_count": 24,
     "metadata": {},
     "output_type": "execute_result"
    }
   ],
   "source": [
    "a.shape"
   ]
  },
  {
   "cell_type": "code",
   "execution_count": 30,
   "metadata": {},
   "outputs": [],
   "source": [
    "model=XGBRegressor(random_state=990,learning_rate=0.01,n_estimators=500,max_depth=10,reg_lambda=0.2)\n",
    "model2=LGBMRegressor(boosting_type='gbdt',num_leaves=31,learning_rate=0.1,n_estimators=100,random_state=990,verbose=-1)\n",
    "ftsc=MLForecast(\n",
    "    models=[model,model2],\n",
    "    freq='H',\n",
    "    lags=[seasonal_period],\n",
    "    lag_transforms={\n",
    "        # 30:[(rolling_mean,30),(rolling_std,30),(rolling_min,30),(rolling_max,30)],\n",
    "        # 168:[(rolling_mean,168),(rolling_std,168),(rolling_min,168),(rolling_max,168)],\n",
    "        seasonal_period:[(rolling_mean,seasonal_period),(rolling_std,seasonal_period),(rolling_min,seasonal_period),(rolling_max,seasonal_period)],\n",
    "    #     350:[(rolling_mean,350),(rolling_std,350),(rolling_min,350),(rolling_max,350)],\n",
    "    #     720:[(rolling_mean,720),(rolling_std,720),(rolling_min,720),(rolling_max,720)]\n",
    "    },\n",
    "    # target_transforms=[Differences([350])],\n",
    "    date_features=['hour','day','weekday','month','year'],\n",
    ")\n",
    "# ftsc.fit(train,id_col='unique_id',time_col='ds',target_col='y')\n",
    "# min_child_weight=\n",
    "# ,gamma=\n",
    "# ,subsample=\n",
    "# objective=\"reg:squarederror\","
   ]
  },
  {
   "cell_type": "code",
   "execution_count": 32,
   "metadata": {},
   "outputs": [
    {
     "data": {
      "text/plain": [
       "MLForecast(models=[XGBRegressor, LGBMRegressor], freq=H, lag_features=['lag667', 'rolling_mean_lag667_window_size667', 'rolling_std_lag667_window_size667', 'rolling_min_lag667_window_size667', 'rolling_max_lag667_window_size667'], date_features=['hour', 'day', 'weekday', 'month', 'year'], num_threads=1)"
      ]
     },
     "execution_count": 32,
     "metadata": {},
     "output_type": "execute_result"
    }
   ],
   "source": [
    "ftsc.fit(train,id_col='unique_id',time_col='ds',target_col='y')"
   ]
  },
  {
   "cell_type": "code",
   "execution_count": 33,
   "metadata": {},
   "outputs": [],
   "source": [
    "predictions = ftsc.predict(test.shape[0])"
   ]
  },
  {
   "cell_type": "code",
   "execution_count": 44,
   "metadata": {},
   "outputs": [
    {
     "data": {
      "text/html": [
       "<div>\n",
       "<style scoped>\n",
       "    .dataframe tbody tr th:only-of-type {\n",
       "        vertical-align: middle;\n",
       "    }\n",
       "\n",
       "    .dataframe tbody tr th {\n",
       "        vertical-align: top;\n",
       "    }\n",
       "\n",
       "    .dataframe thead th {\n",
       "        text-align: right;\n",
       "    }\n",
       "</style>\n",
       "<table border=\"1\" class=\"dataframe\">\n",
       "  <thead>\n",
       "    <tr style=\"text-align: right;\">\n",
       "      <th></th>\n",
       "      <th>index</th>\n",
       "      <th>0</th>\n",
       "      <th>ds</th>\n",
       "      <th>z</th>\n",
       "      <th>unique_id</th>\n",
       "      <th>y</th>\n",
       "    </tr>\n",
       "  </thead>\n",
       "  <tbody>\n",
       "    <tr>\n",
       "      <th>0</th>\n",
       "      <td>1335</td>\n",
       "      <td>-7.484502</td>\n",
       "      <td>2022-02-28 15:00:00</td>\n",
       "      <td>-7.484502</td>\n",
       "      <td>h1</td>\n",
       "      <td>-7.484502</td>\n",
       "    </tr>\n",
       "    <tr>\n",
       "      <th>1</th>\n",
       "      <td>1336</td>\n",
       "      <td>2.095954</td>\n",
       "      <td>2022-02-28 16:00:00</td>\n",
       "      <td>2.095954</td>\n",
       "      <td>h1</td>\n",
       "      <td>2.095954</td>\n",
       "    </tr>\n",
       "    <tr>\n",
       "      <th>2</th>\n",
       "      <td>1337</td>\n",
       "      <td>2.335409</td>\n",
       "      <td>2022-02-28 17:00:00</td>\n",
       "      <td>2.335409</td>\n",
       "      <td>h1</td>\n",
       "      <td>2.335409</td>\n",
       "    </tr>\n",
       "    <tr>\n",
       "      <th>3</th>\n",
       "      <td>1338</td>\n",
       "      <td>2.124864</td>\n",
       "      <td>2022-02-28 18:00:00</td>\n",
       "      <td>2.124864</td>\n",
       "      <td>h1</td>\n",
       "      <td>2.124864</td>\n",
       "    </tr>\n",
       "    <tr>\n",
       "      <th>4</th>\n",
       "      <td>1339</td>\n",
       "      <td>1.955319</td>\n",
       "      <td>2022-02-28 19:00:00</td>\n",
       "      <td>1.955319</td>\n",
       "      <td>h1</td>\n",
       "      <td>1.955319</td>\n",
       "    </tr>\n",
       "  </tbody>\n",
       "</table>\n",
       "</div>"
      ],
      "text/plain": [
       "   index         0                  ds         z unique_id         y\n",
       "0   1335 -7.484502 2022-02-28 15:00:00 -7.484502        h1 -7.484502\n",
       "1   1336  2.095954 2022-02-28 16:00:00  2.095954        h1  2.095954\n",
       "2   1337  2.335409 2022-02-28 17:00:00  2.335409        h1  2.335409\n",
       "3   1338  2.124864 2022-02-28 18:00:00  2.124864        h1  2.124864\n",
       "4   1339  1.955319 2022-02-28 19:00:00  1.955319        h1  1.955319"
      ]
     },
     "execution_count": 44,
     "metadata": {},
     "output_type": "execute_result"
    }
   ],
   "source": [
    "seasonalx = np.tile(seasonal[-seasonal_period:], int(np.ceil( test.shape[0] / seasonal_period)))[:test.shape[0]]\n",
    "seasonalx = pd.Series(seasonalx, index=test.index)\n",
    "seasonalx=pd.DataFrame(seasonalx)\n",
    "seasonalx['ds']=pd.to_datetime(test['ds'])\n",
    "seasonalx['z']=seasonalx[0]\n",
    "seasonalx['unique_id']='h1'\n",
    "seasonalx.head()\n",
    "seasonalx=pd.DataFrame(seasonalx)\n",
    "seasonalx['y']=seasonalx['z']\n",
    "seasonalx=seasonalx.reset_index()\n",
    "seasonalx.head()"
   ]
  },
  {
   "cell_type": "code",
   "execution_count": 46,
   "metadata": {},
   "outputs": [
    {
     "data": {
      "text/plain": [
       "((1335, 6),\n",
       "   unique_id                  ds  XGBRegressor  LGBMRegressor\n",
       " 0        h1 2022-02-28 15:00:00     11.877375        15.2625\n",
       " 1        h1 2022-02-28 16:00:00     18.647635        15.2625\n",
       " 2        h1 2022-02-28 17:00:00     18.647635        15.2625\n",
       " 3        h1 2022-02-28 18:00:00     18.647635        15.2625\n",
       " 4        h1 2022-02-28 19:00:00     18.647635        15.2625)"
      ]
     },
     "execution_count": 46,
     "metadata": {},
     "output_type": "execute_result"
    }
   ],
   "source": [
    "seasonalx.shape,predictions.head()"
   ]
  },
  {
   "cell_type": "code",
   "execution_count": 49,
   "metadata": {},
   "outputs": [
    {
     "data": {
      "text/html": [
       "<div>\n",
       "<style scoped>\n",
       "    .dataframe tbody tr th:only-of-type {\n",
       "        vertical-align: middle;\n",
       "    }\n",
       "\n",
       "    .dataframe tbody tr th {\n",
       "        vertical-align: top;\n",
       "    }\n",
       "\n",
       "    .dataframe thead th {\n",
       "        text-align: right;\n",
       "    }\n",
       "</style>\n",
       "<table border=\"1\" class=\"dataframe\">\n",
       "  <thead>\n",
       "    <tr style=\"text-align: right;\">\n",
       "      <th></th>\n",
       "      <th>unique_id</th>\n",
       "      <th>ds</th>\n",
       "      <th>seas+xgb</th>\n",
       "      <th>seas+lgb</th>\n",
       "    </tr>\n",
       "  </thead>\n",
       "  <tbody>\n",
       "    <tr>\n",
       "      <th>0</th>\n",
       "      <td>h1</td>\n",
       "      <td>2022-02-28 15:00:00</td>\n",
       "      <td>13.238803</td>\n",
       "      <td>11.842073</td>\n",
       "    </tr>\n",
       "    <tr>\n",
       "      <th>1</th>\n",
       "      <td>h1</td>\n",
       "      <td>2022-02-28 16:00:00</td>\n",
       "      <td>20.294168</td>\n",
       "      <td>19.903028</td>\n",
       "    </tr>\n",
       "    <tr>\n",
       "      <th>2</th>\n",
       "      <td>h1</td>\n",
       "      <td>2022-02-28 17:00:00</td>\n",
       "      <td>20.540331</td>\n",
       "      <td>20.104505</td>\n",
       "    </tr>\n",
       "    <tr>\n",
       "      <th>3</th>\n",
       "      <td>h1</td>\n",
       "      <td>2022-02-28 18:00:00</td>\n",
       "      <td>20.323889</td>\n",
       "      <td>19.927353</td>\n",
       "    </tr>\n",
       "    <tr>\n",
       "      <th>4</th>\n",
       "      <td>h1</td>\n",
       "      <td>2022-02-28 19:00:00</td>\n",
       "      <td>20.149594</td>\n",
       "      <td>19.784699</td>\n",
       "    </tr>\n",
       "  </tbody>\n",
       "</table>\n",
       "</div>"
      ],
      "text/plain": [
       "  unique_id                  ds   seas+xgb   seas+lgb\n",
       "0        h1 2022-02-28 15:00:00  13.238803  11.842073\n",
       "1        h1 2022-02-28 16:00:00  20.294168  19.903028\n",
       "2        h1 2022-02-28 17:00:00  20.540331  20.104505\n",
       "3        h1 2022-02-28 18:00:00  20.323889  19.927353\n",
       "4        h1 2022-02-28 19:00:00  20.149594  19.784699"
      ]
     },
     "execution_count": 49,
     "metadata": {},
     "output_type": "execute_result"
    }
   ],
   "source": [
    "predictions['seas+xgb']=predictions['XGBRegressor']*(seasonalx['y'])\n",
    "predictions['seas+xgb']=(predictions['seas+xgb']/a['y'].mean())+a['y'].mean()\n",
    "predictions['seas+lgb']=predictions['LGBMRegressor']*(seasonalx['y'])\n",
    "predictions['seas+lgb']=(predictions['seas+lgb']/a['y'].mean())+a['y'].mean()\n",
    "p=predictions.copy()\n",
    "p.drop(columns=['XGBRegressor','LGBMRegressor'],inplace=True)\n",
    "p.head()"
   ]
  },
  {
   "cell_type": "code",
   "execution_count": 48,
   "metadata": {},
   "outputs": [
    {
     "data": {
      "text/plain": [
       "(np.float64(9.454873875768662), np.float64(9.845601992982527))"
      ]
     },
     "execution_count": 48,
     "metadata": {},
     "output_type": "execute_result"
    }
   ],
   "source": [
    "root_mean_squared_error(test['y'],predictions['seas+xgb']),root_mean_squared_error(test['y'],predictions['seas+lgb'])"
   ]
  },
  {
   "cell_type": "code",
   "execution_count": 55,
   "metadata": {},
   "outputs": [],
   "source": [
    "p['y']=p['seas+lgb']"
   ]
  },
  {
   "cell_type": "code",
   "execution_count": null,
   "metadata": {},
   "outputs": [],
   "source": []
  }
 ],
 "metadata": {
  "kernelspec": {
   "display_name": "venv",
   "language": "python",
   "name": "python3"
  },
  "language_info": {
   "codemirror_mode": {
    "name": "ipython",
    "version": 3
   },
   "file_extension": ".py",
   "mimetype": "text/x-python",
   "name": "python",
   "nbconvert_exporter": "python",
   "pygments_lexer": "ipython3",
   "version": "3.11.4"
  },
  "orig_nbformat": 4
 },
 "nbformat": 4,
 "nbformat_minor": 2
}
